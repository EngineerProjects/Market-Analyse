{
 "cells": [
  {
   "cell_type": "markdown",
   "metadata": {},
   "source": [
    "# Enterprise AI Documentation\n",
    "\n",
    "## 1. Introduction\n",
    "Enterprise AI is a multi-agent artificial intelligence platform designed for creating autonomous AI teams. This documentation will guide you through key functionalities using the Ollama provider."
   ]
  },
  {
   "cell_type": "code",
   "execution_count": 1,
   "metadata": {},
   "outputs": [
    {
     "name": "stdout",
     "output_type": "stream",
     "text": [
      "Current working directory: /home/amiche/PROJECTS/Enterprise-AI\n"
     ]
    }
   ],
   "source": [
    "from pathlib import Path\n",
    "import os\n",
    "\n",
    "if \"__file__\" in globals():\n",
    "    project_root = Path(__file__).resolve().parent.parent\n",
    "else:\n",
    "    project_root = Path.cwd().parent\n",
    "\n",
    "os.chdir(project_root)\n",
    "print(f\"Current working directory: {os.getcwd()}\")"
   ]
  },
  {
   "cell_type": "markdown",
   "metadata": {},
   "source": [
    "## 2. Basic Configuration Setup\n",
    "The configuration system allows you to load settings from YAML or TOML files and access parameters throughout your application."
   ]
  },
  {
   "cell_type": "code",
   "execution_count": null,
   "metadata": {},
   "outputs": [],
   "source": [
    "from enterprise_ai.config import config"
   ]
  }
 ],
 "metadata": {
  "kernelspec": {
   "display_name": "Python 3 (ipykernel)",
   "language": "python",
   "name": "python3"
  },
  "language_info": {
   "codemirror_mode": {
    "name": "ipython",
    "version": 3
   },
   "file_extension": ".py",
   "mimetype": "text/x-python",
   "name": "python",
   "nbconvert_exporter": "python",
   "pygments_lexer": "ipython3",
   "version": "3.12.9"
  }
 },
 "nbformat": 4,
 "nbformat_minor": 4
}
